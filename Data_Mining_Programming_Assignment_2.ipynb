{
  "nbformat": 4,
  "nbformat_minor": 0,
  "metadata": {
    "colab": {
      "provenance": [],
      "include_colab_link": true
    },
    "kernelspec": {
      "name": "python3",
      "display_name": "Python 3"
    },
    "language_info": {
      "name": "python"
    }
  },
  "cells": [
    {
      "cell_type": "markdown",
      "metadata": {
        "id": "view-in-github",
        "colab_type": "text"
      },
      "source": [
        "<a href=\"https://colab.research.google.com/github/swamy-surla/Data-mining-1/blob/main/Data_Mining_Programming_Assignment_2.ipynb\" target=\"_parent\"><img src=\"https://colab.research.google.com/assets/colab-badge.svg\" alt=\"Open In Colab\"/></a>"
      ]
    },
    {
      "cell_type": "code",
      "source": [
        "import os\n",
        "import numpy as np\n",
        "import pandas as pd\n",
        "import warnings\n",
        "\n",
        "from PIL import Image\n",
        "from skimage.color import rgb2gray\n",
        "import xml.etree.ElementTree as ET\n",
        "from skimage import io, exposure, filters\n",
        "\n",
        "from sklearn.model_selection import train_test_split\n",
        "from sklearn.preprocessing import StandardScaler\n",
        "\n",
        "from sklearn.neighbors import KNeighborsClassifier\n",
        "from sklearn.tree import DecisionTreeClassifier\n",
        "from sklearn.neural_network import MLPClassifier\n",
        "from sklearn.ensemble import AdaBoostClassifier\n",
        "\n",
        "from sklearn.metrics import accuracy_score\n",
        "from sklearn.metrics import confusion_matrix\n",
        "from sklearn.model_selection import cross_val_score, StratifiedKFold, KFold\n",
        "\n",
        "\n",
        "import matplotlib.pyplot as plt"
      ],
      "metadata": {
        "id": "91Il5ulbK60x"
      },
      "execution_count": null,
      "outputs": []
    },
    {
      "cell_type": "code",
      "source": [
        "warnings.filterwarnings(\"ignore\")"
      ],
      "metadata": {
        "id": "8HPkX2IY1bTA"
      },
      "execution_count": null,
      "outputs": []
    },
    {
      "cell_type": "markdown",
      "source": [
        "## 1"
      ],
      "metadata": {
        "id": "R77dnaqLejWu"
      }
    },
    {
      "cell_type": "code",
      "source": [
        "def resize_crop_image(image_path,image_filename,annotation_path,annotation_filename):\n",
        "    bnd_box = []\n",
        "    im = Image.open(os.path.join(image_path,image_filename))\n",
        "    annotation = ET.parse(os.path.join(annotation_path,annotation_filename))\n",
        "    annotation_root =  annotation.getroot()\n",
        "    for child in annotation_root.findall('object')[0].findall('bndbox')[0]:\n",
        "        # print(child.tag,child.text)\n",
        "        bnd_box.append(int(child.text))\n",
        "    im = im.crop(bnd_box)\n",
        "    im = im.resize((128,128))\n",
        "    return im"
      ],
      "metadata": {
        "id": "wU1oO8-RPFcp"
      },
      "execution_count": null,
      "outputs": []
    },
    {
      "cell_type": "code",
      "source": [
        "def angle(dx, dy):\n",
        "    \"\"\"Calculate the angles between horizontal and vertical operators.\"\"\"\n",
        "    return np.mod(np.arctan2(dy, dx), np.pi)"
      ],
      "metadata": {
        "id": "je6g-GhFS-VL"
      },
      "execution_count": null,
      "outputs": []
    },
    {
      "cell_type": "code",
      "source": [
        "image_dir = \"/content/drive/MyDrive/ajas/images/Images\"\n",
        "annotation_dir = \"/content/drive/MyDrive/ajas/annotations/Annotation\""
      ],
      "metadata": {
        "id": "RldYCZcAMBAL"
      },
      "execution_count": null,
      "outputs": []
    },
    {
      "cell_type": "code",
      "source": [
        "class_names = \"Dandie_Dinmont\tOtterhound\tTibetan_terrier\tFrench_bulldog\".split(\"\\t\")"
      ],
      "metadata": {
        "id": "zEl4FZSEL421"
      },
      "execution_count": null,
      "outputs": []
    },
    {
      "cell_type": "code",
      "source": [
        "class_names"
      ],
      "metadata": {
        "colab": {
          "base_uri": "https://localhost:8080/"
        },
        "id": "OqfDC_GwM6cB",
        "outputId": "f7f33666-0867-495a-fbc8-159fe6ec9f3f"
      },
      "execution_count": null,
      "outputs": [
        {
          "output_type": "execute_result",
          "data": {
            "text/plain": [
              "['Dandie_Dinmont', 'Otterhound', 'Tibetan_terrier', 'French_bulldog']"
            ]
          },
          "metadata": {},
          "execution_count": 24
        }
      ]
    },
    {
      "cell_type": "code",
      "source": [
        "class_paths = ['n02096437-Dandie_Dinmont','n02097474-Tibetan_terrier','n02091635-otterhound','n02108915-French_bulldog']"
      ],
      "metadata": {
        "id": "H58opAyPPewd"
      },
      "execution_count": null,
      "outputs": []
    },
    {
      "cell_type": "code",
      "source": [
        "new_dir = \"/content/drive/MyDrive/data_mining/Processed_images\""
      ],
      "metadata": {
        "id": "xTJRCSmy9ETa"
      },
      "execution_count": null,
      "outputs": []
    },
    {
      "cell_type": "code",
      "execution_count": null,
      "metadata": {
        "id": "P-rIXdK2NyXl"
      },
      "outputs": [],
      "source": [
        "def process_images():\n",
        "  if not os.path.exists(new_dir):\n",
        "    os.mkdir(new_dir)\n",
        "  for class_ in class_paths:\n",
        "      image_class_path = os.path.join(image_dir,class_)\n",
        "      annotation_class_path = os.path.join(annotation_dir,class_)\n",
        "      images = os.listdir(image_class_path)\n",
        "      annotations = os.listdir(annotation_class_path)\n",
        "      new_class_dir = os.path.join(new_dir,class_)\n",
        "      if not os.path.exists(new_class_dir):\n",
        "          os.mkdir(new_class_dir)\n",
        "      for image_filename ,annotation_filename in zip(images,annotations):\n",
        "          im = resize_crop_image(image_class_path,image_filename,annotation_class_path,annotation_filename)\n",
        "          im.save(os.path.join(new_class_dir,image_filename))"
      ]
    },
    {
      "cell_type": "markdown",
      "source": [
        "## 2"
      ],
      "metadata": {
        "id": "itnZ5n2yerWd"
      }
    },
    {
      "cell_type": "code",
      "source": [
        "df = pd.DataFrame(columns = list(range(0,36))+['class'])\n",
        "for class_ in class_paths:\n",
        "  class_path = os.path.join(new_dir,class_)\n",
        "  for filename in os.listdir(class_path):\n",
        "    img = io.imread(os.path.join(class_path,filename))\n",
        "    gray_sacle = rgb2gray(img)\n",
        "    angle_sobel = angle(filters.sobel_h(gray_sacle),\n",
        "                    filters.sobel_v(gray_sacle))\n",
        "    hist,bins = exposure.histogram(angle_sobel,nbins=36)\n",
        "\n",
        "    # print(\"here\")\n",
        "    for i in class_names:\n",
        "      if i.lower() in class_.lower():\n",
        "        break\n",
        "    df.loc[len(df)] = list(hist)+[class_names.index(i)]\n",
        "\n",
        "\n"
      ],
      "metadata": {
        "id": "hSsSTDBkQCKw"
      },
      "execution_count": null,
      "outputs": []
    },
    {
      "cell_type": "code",
      "source": [
        "df.to_csv(\"/content/drive/MyDrive/data_mining/hist_datset.csv\")"
      ],
      "metadata": {
        "id": "cdHaJmJKVmvv"
      },
      "execution_count": null,
      "outputs": []
    },
    {
      "cell_type": "code",
      "source": [
        "df"
      ],
      "metadata": {
        "id": "cNjtKCROm-jV",
        "colab": {
          "base_uri": "https://localhost:8080/",
          "height": 423
        },
        "outputId": "17f59870-a54e-4694-ef52-33b0896d248e"
      },
      "execution_count": null,
      "outputs": [
        {
          "output_type": "execute_result",
          "data": {
            "text/plain": [
              "         0    1    2    3    4    5    6    7    8    9  ...   27   28   29  \\\n",
              "0      672  600  573  553  493  443  409  362  425  432  ...  419  432  430   \n",
              "1     6297  317  269  275  248  236  238  234  234  252  ...  263  319  285   \n",
              "2     2251  359  301  300  267  298  293  332  360  412  ...  339  270  266   \n",
              "3      678  566  590  568  481  460  462  436  410  382  ...  448  427  417   \n",
              "4      441  417  409  456  410  410  405  428  455  475  ...  400  426  369   \n",
              "..     ...  ...  ...  ...  ...  ...  ...  ...  ...  ...  ...  ...  ...  ...   \n",
              "691   2138  643  555  555  443  459  438  413  450  471  ...  343  298  333   \n",
              "692  12055  275  227  197  169  139  121  105   86  109  ...   82   98  121   \n",
              "693   4565  379  346  354  315  294  286  264  248  264  ...  324  326  345   \n",
              "694   3690  439  432  385  353  349  337  334  298  362  ...  427  374  364   \n",
              "695    907  779  715  643  521  487  436  401  334  346  ...  393  363  471   \n",
              "\n",
              "      30   31   32   33   34   35  class  \n",
              "0    460  518  491  486  563  613      0  \n",
              "1    323  291  318  319  331  332      0  \n",
              "2    273  273  279  288  294  356      0  \n",
              "3    467  541  565  600  611  592      0  \n",
              "4    383  364  429  460  432  410      0  \n",
              "..   ...  ...  ...  ...  ...  ...    ...  \n",
              "691  357  403  476  490  624  846      3  \n",
              "692  117  132  178  175  237  290      3  \n",
              "693  353  318  325  362  376  454      3  \n",
              "694  366  362  472  415  457  600      3  \n",
              "695  585  583  689  795  855  900      3  \n",
              "\n",
              "[696 rows x 37 columns]"
            ],
            "text/html": [
              "\n",
              "  <div id=\"df-57b84da9-0f23-4a33-aff5-086d249a2302\" class=\"colab-df-container\">\n",
              "    <div>\n",
              "<style scoped>\n",
              "    .dataframe tbody tr th:only-of-type {\n",
              "        vertical-align: middle;\n",
              "    }\n",
              "\n",
              "    .dataframe tbody tr th {\n",
              "        vertical-align: top;\n",
              "    }\n",
              "\n",
              "    .dataframe thead th {\n",
              "        text-align: right;\n",
              "    }\n",
              "</style>\n",
              "<table border=\"1\" class=\"dataframe\">\n",
              "  <thead>\n",
              "    <tr style=\"text-align: right;\">\n",
              "      <th></th>\n",
              "      <th>0</th>\n",
              "      <th>1</th>\n",
              "      <th>2</th>\n",
              "      <th>3</th>\n",
              "      <th>4</th>\n",
              "      <th>5</th>\n",
              "      <th>6</th>\n",
              "      <th>7</th>\n",
              "      <th>8</th>\n",
              "      <th>9</th>\n",
              "      <th>...</th>\n",
              "      <th>27</th>\n",
              "      <th>28</th>\n",
              "      <th>29</th>\n",
              "      <th>30</th>\n",
              "      <th>31</th>\n",
              "      <th>32</th>\n",
              "      <th>33</th>\n",
              "      <th>34</th>\n",
              "      <th>35</th>\n",
              "      <th>class</th>\n",
              "    </tr>\n",
              "  </thead>\n",
              "  <tbody>\n",
              "    <tr>\n",
              "      <th>0</th>\n",
              "      <td>672</td>\n",
              "      <td>600</td>\n",
              "      <td>573</td>\n",
              "      <td>553</td>\n",
              "      <td>493</td>\n",
              "      <td>443</td>\n",
              "      <td>409</td>\n",
              "      <td>362</td>\n",
              "      <td>425</td>\n",
              "      <td>432</td>\n",
              "      <td>...</td>\n",
              "      <td>419</td>\n",
              "      <td>432</td>\n",
              "      <td>430</td>\n",
              "      <td>460</td>\n",
              "      <td>518</td>\n",
              "      <td>491</td>\n",
              "      <td>486</td>\n",
              "      <td>563</td>\n",
              "      <td>613</td>\n",
              "      <td>0</td>\n",
              "    </tr>\n",
              "    <tr>\n",
              "      <th>1</th>\n",
              "      <td>6297</td>\n",
              "      <td>317</td>\n",
              "      <td>269</td>\n",
              "      <td>275</td>\n",
              "      <td>248</td>\n",
              "      <td>236</td>\n",
              "      <td>238</td>\n",
              "      <td>234</td>\n",
              "      <td>234</td>\n",
              "      <td>252</td>\n",
              "      <td>...</td>\n",
              "      <td>263</td>\n",
              "      <td>319</td>\n",
              "      <td>285</td>\n",
              "      <td>323</td>\n",
              "      <td>291</td>\n",
              "      <td>318</td>\n",
              "      <td>319</td>\n",
              "      <td>331</td>\n",
              "      <td>332</td>\n",
              "      <td>0</td>\n",
              "    </tr>\n",
              "    <tr>\n",
              "      <th>2</th>\n",
              "      <td>2251</td>\n",
              "      <td>359</td>\n",
              "      <td>301</td>\n",
              "      <td>300</td>\n",
              "      <td>267</td>\n",
              "      <td>298</td>\n",
              "      <td>293</td>\n",
              "      <td>332</td>\n",
              "      <td>360</td>\n",
              "      <td>412</td>\n",
              "      <td>...</td>\n",
              "      <td>339</td>\n",
              "      <td>270</td>\n",
              "      <td>266</td>\n",
              "      <td>273</td>\n",
              "      <td>273</td>\n",
              "      <td>279</td>\n",
              "      <td>288</td>\n",
              "      <td>294</td>\n",
              "      <td>356</td>\n",
              "      <td>0</td>\n",
              "    </tr>\n",
              "    <tr>\n",
              "      <th>3</th>\n",
              "      <td>678</td>\n",
              "      <td>566</td>\n",
              "      <td>590</td>\n",
              "      <td>568</td>\n",
              "      <td>481</td>\n",
              "      <td>460</td>\n",
              "      <td>462</td>\n",
              "      <td>436</td>\n",
              "      <td>410</td>\n",
              "      <td>382</td>\n",
              "      <td>...</td>\n",
              "      <td>448</td>\n",
              "      <td>427</td>\n",
              "      <td>417</td>\n",
              "      <td>467</td>\n",
              "      <td>541</td>\n",
              "      <td>565</td>\n",
              "      <td>600</td>\n",
              "      <td>611</td>\n",
              "      <td>592</td>\n",
              "      <td>0</td>\n",
              "    </tr>\n",
              "    <tr>\n",
              "      <th>4</th>\n",
              "      <td>441</td>\n",
              "      <td>417</td>\n",
              "      <td>409</td>\n",
              "      <td>456</td>\n",
              "      <td>410</td>\n",
              "      <td>410</td>\n",
              "      <td>405</td>\n",
              "      <td>428</td>\n",
              "      <td>455</td>\n",
              "      <td>475</td>\n",
              "      <td>...</td>\n",
              "      <td>400</td>\n",
              "      <td>426</td>\n",
              "      <td>369</td>\n",
              "      <td>383</td>\n",
              "      <td>364</td>\n",
              "      <td>429</td>\n",
              "      <td>460</td>\n",
              "      <td>432</td>\n",
              "      <td>410</td>\n",
              "      <td>0</td>\n",
              "    </tr>\n",
              "    <tr>\n",
              "      <th>...</th>\n",
              "      <td>...</td>\n",
              "      <td>...</td>\n",
              "      <td>...</td>\n",
              "      <td>...</td>\n",
              "      <td>...</td>\n",
              "      <td>...</td>\n",
              "      <td>...</td>\n",
              "      <td>...</td>\n",
              "      <td>...</td>\n",
              "      <td>...</td>\n",
              "      <td>...</td>\n",
              "      <td>...</td>\n",
              "      <td>...</td>\n",
              "      <td>...</td>\n",
              "      <td>...</td>\n",
              "      <td>...</td>\n",
              "      <td>...</td>\n",
              "      <td>...</td>\n",
              "      <td>...</td>\n",
              "      <td>...</td>\n",
              "      <td>...</td>\n",
              "    </tr>\n",
              "    <tr>\n",
              "      <th>691</th>\n",
              "      <td>2138</td>\n",
              "      <td>643</td>\n",
              "      <td>555</td>\n",
              "      <td>555</td>\n",
              "      <td>443</td>\n",
              "      <td>459</td>\n",
              "      <td>438</td>\n",
              "      <td>413</td>\n",
              "      <td>450</td>\n",
              "      <td>471</td>\n",
              "      <td>...</td>\n",
              "      <td>343</td>\n",
              "      <td>298</td>\n",
              "      <td>333</td>\n",
              "      <td>357</td>\n",
              "      <td>403</td>\n",
              "      <td>476</td>\n",
              "      <td>490</td>\n",
              "      <td>624</td>\n",
              "      <td>846</td>\n",
              "      <td>3</td>\n",
              "    </tr>\n",
              "    <tr>\n",
              "      <th>692</th>\n",
              "      <td>12055</td>\n",
              "      <td>275</td>\n",
              "      <td>227</td>\n",
              "      <td>197</td>\n",
              "      <td>169</td>\n",
              "      <td>139</td>\n",
              "      <td>121</td>\n",
              "      <td>105</td>\n",
              "      <td>86</td>\n",
              "      <td>109</td>\n",
              "      <td>...</td>\n",
              "      <td>82</td>\n",
              "      <td>98</td>\n",
              "      <td>121</td>\n",
              "      <td>117</td>\n",
              "      <td>132</td>\n",
              "      <td>178</td>\n",
              "      <td>175</td>\n",
              "      <td>237</td>\n",
              "      <td>290</td>\n",
              "      <td>3</td>\n",
              "    </tr>\n",
              "    <tr>\n",
              "      <th>693</th>\n",
              "      <td>4565</td>\n",
              "      <td>379</td>\n",
              "      <td>346</td>\n",
              "      <td>354</td>\n",
              "      <td>315</td>\n",
              "      <td>294</td>\n",
              "      <td>286</td>\n",
              "      <td>264</td>\n",
              "      <td>248</td>\n",
              "      <td>264</td>\n",
              "      <td>...</td>\n",
              "      <td>324</td>\n",
              "      <td>326</td>\n",
              "      <td>345</td>\n",
              "      <td>353</td>\n",
              "      <td>318</td>\n",
              "      <td>325</td>\n",
              "      <td>362</td>\n",
              "      <td>376</td>\n",
              "      <td>454</td>\n",
              "      <td>3</td>\n",
              "    </tr>\n",
              "    <tr>\n",
              "      <th>694</th>\n",
              "      <td>3690</td>\n",
              "      <td>439</td>\n",
              "      <td>432</td>\n",
              "      <td>385</td>\n",
              "      <td>353</td>\n",
              "      <td>349</td>\n",
              "      <td>337</td>\n",
              "      <td>334</td>\n",
              "      <td>298</td>\n",
              "      <td>362</td>\n",
              "      <td>...</td>\n",
              "      <td>427</td>\n",
              "      <td>374</td>\n",
              "      <td>364</td>\n",
              "      <td>366</td>\n",
              "      <td>362</td>\n",
              "      <td>472</td>\n",
              "      <td>415</td>\n",
              "      <td>457</td>\n",
              "      <td>600</td>\n",
              "      <td>3</td>\n",
              "    </tr>\n",
              "    <tr>\n",
              "      <th>695</th>\n",
              "      <td>907</td>\n",
              "      <td>779</td>\n",
              "      <td>715</td>\n",
              "      <td>643</td>\n",
              "      <td>521</td>\n",
              "      <td>487</td>\n",
              "      <td>436</td>\n",
              "      <td>401</td>\n",
              "      <td>334</td>\n",
              "      <td>346</td>\n",
              "      <td>...</td>\n",
              "      <td>393</td>\n",
              "      <td>363</td>\n",
              "      <td>471</td>\n",
              "      <td>585</td>\n",
              "      <td>583</td>\n",
              "      <td>689</td>\n",
              "      <td>795</td>\n",
              "      <td>855</td>\n",
              "      <td>900</td>\n",
              "      <td>3</td>\n",
              "    </tr>\n",
              "  </tbody>\n",
              "</table>\n",
              "<p>696 rows × 37 columns</p>\n",
              "</div>\n",
              "    <div class=\"colab-df-buttons\">\n",
              "\n",
              "  <div class=\"colab-df-container\">\n",
              "    <button class=\"colab-df-convert\" onclick=\"convertToInteractive('df-57b84da9-0f23-4a33-aff5-086d249a2302')\"\n",
              "            title=\"Convert this dataframe to an interactive table.\"\n",
              "            style=\"display:none;\">\n",
              "\n",
              "  <svg xmlns=\"http://www.w3.org/2000/svg\" height=\"24px\" viewBox=\"0 -960 960 960\">\n",
              "    <path d=\"M120-120v-720h720v720H120Zm60-500h600v-160H180v160Zm220 220h160v-160H400v160Zm0 220h160v-160H400v160ZM180-400h160v-160H180v160Zm440 0h160v-160H620v160ZM180-180h160v-160H180v160Zm440 0h160v-160H620v160Z\"/>\n",
              "  </svg>\n",
              "    </button>\n",
              "\n",
              "  <style>\n",
              "    .colab-df-container {\n",
              "      display:flex;\n",
              "      gap: 12px;\n",
              "    }\n",
              "\n",
              "    .colab-df-convert {\n",
              "      background-color: #E8F0FE;\n",
              "      border: none;\n",
              "      border-radius: 50%;\n",
              "      cursor: pointer;\n",
              "      display: none;\n",
              "      fill: #1967D2;\n",
              "      height: 32px;\n",
              "      padding: 0 0 0 0;\n",
              "      width: 32px;\n",
              "    }\n",
              "\n",
              "    .colab-df-convert:hover {\n",
              "      background-color: #E2EBFA;\n",
              "      box-shadow: 0px 1px 2px rgba(60, 64, 67, 0.3), 0px 1px 3px 1px rgba(60, 64, 67, 0.15);\n",
              "      fill: #174EA6;\n",
              "    }\n",
              "\n",
              "    .colab-df-buttons div {\n",
              "      margin-bottom: 4px;\n",
              "    }\n",
              "\n",
              "    [theme=dark] .colab-df-convert {\n",
              "      background-color: #3B4455;\n",
              "      fill: #D2E3FC;\n",
              "    }\n",
              "\n",
              "    [theme=dark] .colab-df-convert:hover {\n",
              "      background-color: #434B5C;\n",
              "      box-shadow: 0px 1px 3px 1px rgba(0, 0, 0, 0.15);\n",
              "      filter: drop-shadow(0px 1px 2px rgba(0, 0, 0, 0.3));\n",
              "      fill: #FFFFFF;\n",
              "    }\n",
              "  </style>\n",
              "\n",
              "    <script>\n",
              "      const buttonEl =\n",
              "        document.querySelector('#df-57b84da9-0f23-4a33-aff5-086d249a2302 button.colab-df-convert');\n",
              "      buttonEl.style.display =\n",
              "        google.colab.kernel.accessAllowed ? 'block' : 'none';\n",
              "\n",
              "      async function convertToInteractive(key) {\n",
              "        const element = document.querySelector('#df-57b84da9-0f23-4a33-aff5-086d249a2302');\n",
              "        const dataTable =\n",
              "          await google.colab.kernel.invokeFunction('convertToInteractive',\n",
              "                                                    [key], {});\n",
              "        if (!dataTable) return;\n",
              "\n",
              "        const docLinkHtml = 'Like what you see? Visit the ' +\n",
              "          '<a target=\"_blank\" href=https://colab.research.google.com/notebooks/data_table.ipynb>data table notebook</a>'\n",
              "          + ' to learn more about interactive tables.';\n",
              "        element.innerHTML = '';\n",
              "        dataTable['output_type'] = 'display_data';\n",
              "        await google.colab.output.renderOutput(dataTable, element);\n",
              "        const docLink = document.createElement('div');\n",
              "        docLink.innerHTML = docLinkHtml;\n",
              "        element.appendChild(docLink);\n",
              "      }\n",
              "    </script>\n",
              "  </div>\n",
              "\n",
              "\n",
              "<div id=\"df-d8e830f9-00d7-4dcf-b3a8-0ad6bc78c0b4\">\n",
              "  <button class=\"colab-df-quickchart\" onclick=\"quickchart('df-d8e830f9-00d7-4dcf-b3a8-0ad6bc78c0b4')\"\n",
              "            title=\"Suggest charts\"\n",
              "            style=\"display:none;\">\n",
              "\n",
              "<svg xmlns=\"http://www.w3.org/2000/svg\" height=\"24px\"viewBox=\"0 0 24 24\"\n",
              "     width=\"24px\">\n",
              "    <g>\n",
              "        <path d=\"M19 3H5c-1.1 0-2 .9-2 2v14c0 1.1.9 2 2 2h14c1.1 0 2-.9 2-2V5c0-1.1-.9-2-2-2zM9 17H7v-7h2v7zm4 0h-2V7h2v10zm4 0h-2v-4h2v4z\"/>\n",
              "    </g>\n",
              "</svg>\n",
              "  </button>\n",
              "\n",
              "<style>\n",
              "  .colab-df-quickchart {\n",
              "      --bg-color: #E8F0FE;\n",
              "      --fill-color: #1967D2;\n",
              "      --hover-bg-color: #E2EBFA;\n",
              "      --hover-fill-color: #174EA6;\n",
              "      --disabled-fill-color: #AAA;\n",
              "      --disabled-bg-color: #DDD;\n",
              "  }\n",
              "\n",
              "  [theme=dark] .colab-df-quickchart {\n",
              "      --bg-color: #3B4455;\n",
              "      --fill-color: #D2E3FC;\n",
              "      --hover-bg-color: #434B5C;\n",
              "      --hover-fill-color: #FFFFFF;\n",
              "      --disabled-bg-color: #3B4455;\n",
              "      --disabled-fill-color: #666;\n",
              "  }\n",
              "\n",
              "  .colab-df-quickchart {\n",
              "    background-color: var(--bg-color);\n",
              "    border: none;\n",
              "    border-radius: 50%;\n",
              "    cursor: pointer;\n",
              "    display: none;\n",
              "    fill: var(--fill-color);\n",
              "    height: 32px;\n",
              "    padding: 0;\n",
              "    width: 32px;\n",
              "  }\n",
              "\n",
              "  .colab-df-quickchart:hover {\n",
              "    background-color: var(--hover-bg-color);\n",
              "    box-shadow: 0 1px 2px rgba(60, 64, 67, 0.3), 0 1px 3px 1px rgba(60, 64, 67, 0.15);\n",
              "    fill: var(--button-hover-fill-color);\n",
              "  }\n",
              "\n",
              "  .colab-df-quickchart-complete:disabled,\n",
              "  .colab-df-quickchart-complete:disabled:hover {\n",
              "    background-color: var(--disabled-bg-color);\n",
              "    fill: var(--disabled-fill-color);\n",
              "    box-shadow: none;\n",
              "  }\n",
              "\n",
              "  .colab-df-spinner {\n",
              "    border: 2px solid var(--fill-color);\n",
              "    border-color: transparent;\n",
              "    border-bottom-color: var(--fill-color);\n",
              "    animation:\n",
              "      spin 1s steps(1) infinite;\n",
              "  }\n",
              "\n",
              "  @keyframes spin {\n",
              "    0% {\n",
              "      border-color: transparent;\n",
              "      border-bottom-color: var(--fill-color);\n",
              "      border-left-color: var(--fill-color);\n",
              "    }\n",
              "    20% {\n",
              "      border-color: transparent;\n",
              "      border-left-color: var(--fill-color);\n",
              "      border-top-color: var(--fill-color);\n",
              "    }\n",
              "    30% {\n",
              "      border-color: transparent;\n",
              "      border-left-color: var(--fill-color);\n",
              "      border-top-color: var(--fill-color);\n",
              "      border-right-color: var(--fill-color);\n",
              "    }\n",
              "    40% {\n",
              "      border-color: transparent;\n",
              "      border-right-color: var(--fill-color);\n",
              "      border-top-color: var(--fill-color);\n",
              "    }\n",
              "    60% {\n",
              "      border-color: transparent;\n",
              "      border-right-color: var(--fill-color);\n",
              "    }\n",
              "    80% {\n",
              "      border-color: transparent;\n",
              "      border-right-color: var(--fill-color);\n",
              "      border-bottom-color: var(--fill-color);\n",
              "    }\n",
              "    90% {\n",
              "      border-color: transparent;\n",
              "      border-bottom-color: var(--fill-color);\n",
              "    }\n",
              "  }\n",
              "</style>\n",
              "\n",
              "  <script>\n",
              "    async function quickchart(key) {\n",
              "      const quickchartButtonEl =\n",
              "        document.querySelector('#' + key + ' button');\n",
              "      quickchartButtonEl.disabled = true;  // To prevent multiple clicks.\n",
              "      quickchartButtonEl.classList.add('colab-df-spinner');\n",
              "      try {\n",
              "        const charts = await google.colab.kernel.invokeFunction(\n",
              "            'suggestCharts', [key], {});\n",
              "      } catch (error) {\n",
              "        console.error('Error during call to suggestCharts:', error);\n",
              "      }\n",
              "      quickchartButtonEl.classList.remove('colab-df-spinner');\n",
              "      quickchartButtonEl.classList.add('colab-df-quickchart-complete');\n",
              "    }\n",
              "    (() => {\n",
              "      let quickchartButtonEl =\n",
              "        document.querySelector('#df-d8e830f9-00d7-4dcf-b3a8-0ad6bc78c0b4 button');\n",
              "      quickchartButtonEl.style.display =\n",
              "        google.colab.kernel.accessAllowed ? 'block' : 'none';\n",
              "    })();\n",
              "  </script>\n",
              "</div>\n",
              "\n",
              "  <div id=\"id_71c3d641-49c4-4418-a5d1-3697c75f7b12\">\n",
              "    <style>\n",
              "      .colab-df-generate {\n",
              "        background-color: #E8F0FE;\n",
              "        border: none;\n",
              "        border-radius: 50%;\n",
              "        cursor: pointer;\n",
              "        display: none;\n",
              "        fill: #1967D2;\n",
              "        height: 32px;\n",
              "        padding: 0 0 0 0;\n",
              "        width: 32px;\n",
              "      }\n",
              "\n",
              "      .colab-df-generate:hover {\n",
              "        background-color: #E2EBFA;\n",
              "        box-shadow: 0px 1px 2px rgba(60, 64, 67, 0.3), 0px 1px 3px 1px rgba(60, 64, 67, 0.15);\n",
              "        fill: #174EA6;\n",
              "      }\n",
              "\n",
              "      [theme=dark] .colab-df-generate {\n",
              "        background-color: #3B4455;\n",
              "        fill: #D2E3FC;\n",
              "      }\n",
              "\n",
              "      [theme=dark] .colab-df-generate:hover {\n",
              "        background-color: #434B5C;\n",
              "        box-shadow: 0px 1px 3px 1px rgba(0, 0, 0, 0.15);\n",
              "        filter: drop-shadow(0px 1px 2px rgba(0, 0, 0, 0.3));\n",
              "        fill: #FFFFFF;\n",
              "      }\n",
              "    </style>\n",
              "    <button class=\"colab-df-generate\" onclick=\"generateWithVariable('df')\"\n",
              "            title=\"Generate code using this dataframe.\"\n",
              "            style=\"display:none;\">\n",
              "\n",
              "  <svg xmlns=\"http://www.w3.org/2000/svg\" height=\"24px\"viewBox=\"0 0 24 24\"\n",
              "       width=\"24px\">\n",
              "    <path d=\"M7,19H8.4L18.45,9,17,7.55,7,17.6ZM5,21V16.75L18.45,3.32a2,2,0,0,1,2.83,0l1.4,1.43a1.91,1.91,0,0,1,.58,1.4,1.91,1.91,0,0,1-.58,1.4L9.25,21ZM18.45,9,17,7.55Zm-12,3A5.31,5.31,0,0,0,4.9,8.1,5.31,5.31,0,0,0,1,6.5,5.31,5.31,0,0,0,4.9,4.9,5.31,5.31,0,0,0,6.5,1,5.31,5.31,0,0,0,8.1,4.9,5.31,5.31,0,0,0,12,6.5,5.46,5.46,0,0,0,6.5,12Z\"/>\n",
              "  </svg>\n",
              "    </button>\n",
              "    <script>\n",
              "      (() => {\n",
              "      const buttonEl =\n",
              "        document.querySelector('#id_71c3d641-49c4-4418-a5d1-3697c75f7b12 button.colab-df-generate');\n",
              "      buttonEl.style.display =\n",
              "        google.colab.kernel.accessAllowed ? 'block' : 'none';\n",
              "\n",
              "      buttonEl.onclick = () => {\n",
              "        google.colab.notebook.generateWithVariable('df');\n",
              "      }\n",
              "      })();\n",
              "    </script>\n",
              "  </div>\n",
              "\n",
              "    </div>\n",
              "  </div>\n"
            ],
            "application/vnd.google.colaboratory.intrinsic+json": {
              "type": "dataframe",
              "variable_name": "df"
            }
          },
          "metadata": {},
          "execution_count": 30
        }
      ]
    },
    {
      "cell_type": "markdown",
      "source": [
        "## 3"
      ],
      "metadata": {
        "id": "EFbMXC_AexE-"
      }
    },
    {
      "cell_type": "code",
      "source": [
        "X = np.array(df[df.columns[:-1]])\n",
        "y = np.array(df['class'])"
      ],
      "metadata": {
        "id": "yOY9myiYZc6V"
      },
      "execution_count": null,
      "outputs": []
    },
    {
      "cell_type": "code",
      "source": [
        "X_train, X_test, y_train, y_test = train_test_split(X,y,test_size=0.2)"
      ],
      "metadata": {
        "id": "hUOQ_5XhZON4"
      },
      "execution_count": null,
      "outputs": []
    },
    {
      "cell_type": "markdown",
      "source": [
        "## 4,5"
      ],
      "metadata": {
        "id": "zqRn6WCZe1_b"
      }
    },
    {
      "cell_type": "code",
      "source": [
        "scaler = StandardScaler()\n",
        "scaler.fit(X_train)"
      ],
      "metadata": {
        "colab": {
          "base_uri": "https://localhost:8080/",
          "height": 74
        },
        "id": "PtYmBzHrbdvk",
        "outputId": "3b78b33e-4025-4438-9279-8eca7cda0693"
      },
      "execution_count": null,
      "outputs": [
        {
          "output_type": "execute_result",
          "data": {
            "text/plain": [
              "StandardScaler()"
            ],
            "text/html": [
              "<style>#sk-container-id-1 {color: black;background-color: white;}#sk-container-id-1 pre{padding: 0;}#sk-container-id-1 div.sk-toggleable {background-color: white;}#sk-container-id-1 label.sk-toggleable__label {cursor: pointer;display: block;width: 100%;margin-bottom: 0;padding: 0.3em;box-sizing: border-box;text-align: center;}#sk-container-id-1 label.sk-toggleable__label-arrow:before {content: \"▸\";float: left;margin-right: 0.25em;color: #696969;}#sk-container-id-1 label.sk-toggleable__label-arrow:hover:before {color: black;}#sk-container-id-1 div.sk-estimator:hover label.sk-toggleable__label-arrow:before {color: black;}#sk-container-id-1 div.sk-toggleable__content {max-height: 0;max-width: 0;overflow: hidden;text-align: left;background-color: #f0f8ff;}#sk-container-id-1 div.sk-toggleable__content pre {margin: 0.2em;color: black;border-radius: 0.25em;background-color: #f0f8ff;}#sk-container-id-1 input.sk-toggleable__control:checked~div.sk-toggleable__content {max-height: 200px;max-width: 100%;overflow: auto;}#sk-container-id-1 input.sk-toggleable__control:checked~label.sk-toggleable__label-arrow:before {content: \"▾\";}#sk-container-id-1 div.sk-estimator input.sk-toggleable__control:checked~label.sk-toggleable__label {background-color: #d4ebff;}#sk-container-id-1 div.sk-label input.sk-toggleable__control:checked~label.sk-toggleable__label {background-color: #d4ebff;}#sk-container-id-1 input.sk-hidden--visually {border: 0;clip: rect(1px 1px 1px 1px);clip: rect(1px, 1px, 1px, 1px);height: 1px;margin: -1px;overflow: hidden;padding: 0;position: absolute;width: 1px;}#sk-container-id-1 div.sk-estimator {font-family: monospace;background-color: #f0f8ff;border: 1px dotted black;border-radius: 0.25em;box-sizing: border-box;margin-bottom: 0.5em;}#sk-container-id-1 div.sk-estimator:hover {background-color: #d4ebff;}#sk-container-id-1 div.sk-parallel-item::after {content: \"\";width: 100%;border-bottom: 1px solid gray;flex-grow: 1;}#sk-container-id-1 div.sk-label:hover label.sk-toggleable__label {background-color: #d4ebff;}#sk-container-id-1 div.sk-serial::before {content: \"\";position: absolute;border-left: 1px solid gray;box-sizing: border-box;top: 0;bottom: 0;left: 50%;z-index: 0;}#sk-container-id-1 div.sk-serial {display: flex;flex-direction: column;align-items: center;background-color: white;padding-right: 0.2em;padding-left: 0.2em;position: relative;}#sk-container-id-1 div.sk-item {position: relative;z-index: 1;}#sk-container-id-1 div.sk-parallel {display: flex;align-items: stretch;justify-content: center;background-color: white;position: relative;}#sk-container-id-1 div.sk-item::before, #sk-container-id-1 div.sk-parallel-item::before {content: \"\";position: absolute;border-left: 1px solid gray;box-sizing: border-box;top: 0;bottom: 0;left: 50%;z-index: -1;}#sk-container-id-1 div.sk-parallel-item {display: flex;flex-direction: column;z-index: 1;position: relative;background-color: white;}#sk-container-id-1 div.sk-parallel-item:first-child::after {align-self: flex-end;width: 50%;}#sk-container-id-1 div.sk-parallel-item:last-child::after {align-self: flex-start;width: 50%;}#sk-container-id-1 div.sk-parallel-item:only-child::after {width: 0;}#sk-container-id-1 div.sk-dashed-wrapped {border: 1px dashed gray;margin: 0 0.4em 0.5em 0.4em;box-sizing: border-box;padding-bottom: 0.4em;background-color: white;}#sk-container-id-1 div.sk-label label {font-family: monospace;font-weight: bold;display: inline-block;line-height: 1.2em;}#sk-container-id-1 div.sk-label-container {text-align: center;}#sk-container-id-1 div.sk-container {/* jupyter's `normalize.less` sets `[hidden] { display: none; }` but bootstrap.min.css set `[hidden] { display: none !important; }` so we also need the `!important` here to be able to override the default hidden behavior on the sphinx rendered scikit-learn.org. See: https://github.com/scikit-learn/scikit-learn/issues/21755 */display: inline-block !important;position: relative;}#sk-container-id-1 div.sk-text-repr-fallback {display: none;}</style><div id=\"sk-container-id-1\" class=\"sk-top-container\"><div class=\"sk-text-repr-fallback\"><pre>StandardScaler()</pre><b>In a Jupyter environment, please rerun this cell to show the HTML representation or trust the notebook. <br />On GitHub, the HTML representation is unable to render, please try loading this page with nbviewer.org.</b></div><div class=\"sk-container\" hidden><div class=\"sk-item\"><div class=\"sk-estimator sk-toggleable\"><input class=\"sk-toggleable__control sk-hidden--visually\" id=\"sk-estimator-id-1\" type=\"checkbox\" checked><label for=\"sk-estimator-id-1\" class=\"sk-toggleable__label sk-toggleable__label-arrow\">StandardScaler</label><div class=\"sk-toggleable__content\"><pre>StandardScaler()</pre></div></div></div></div></div>"
            ]
          },
          "metadata": {},
          "execution_count": 33
        }
      ]
    },
    {
      "cell_type": "code",
      "source": [
        "scalled_x_train= scaler.transform(X_train)\n",
        "scalled_x_test = scaler.transform(X_test)"
      ],
      "metadata": {
        "id": "0V289oqXeRD-"
      },
      "execution_count": null,
      "outputs": []
    },
    {
      "cell_type": "markdown",
      "source": [],
      "metadata": {
        "id": "9qWD8lpI0knF"
      }
    },
    {
      "cell_type": "markdown",
      "source": [
        "## 6"
      ],
      "metadata": {
        "id": "MM9kjWyVe7yM"
      }
    },
    {
      "cell_type": "code",
      "source": [
        "mean_val_errors_std = []\n",
        "mean_val_errors_strat = []\n",
        "mean_train_errors_std = []\n",
        "mean_train_errors_strat = []\n",
        "k_values = [1, 3, 5, 7, 10, 20]\n",
        "for k in k_values:\n",
        "    # Standard 5-fold cross-validation\n",
        "    kf = KFold(n_splits=5,shuffle=True,random_state=k)\n",
        "    knn_1 = KNeighborsClassifier(n_neighbors=k)\n",
        "    val_scores_std = cross_val_score(knn_1, scalled_x_train, y_train, cv=kf)\n",
        "    train_scores_std = knn_1.fit(scalled_x_train, y_train).score(scalled_x_train, y_train)\n",
        "    mean_val_errors_std.append(1 - np.mean(val_scores_std))\n",
        "    mean_train_errors_std.append(1 - train_scores_std)\n",
        "\n",
        "    knn_2 = KNeighborsClassifier(n_neighbors=k)\n",
        "    skf = StratifiedKFold(n_splits=5,shuffle=True,random_state=k)\n",
        "    val_scores_strat = cross_val_score(knn_2, scalled_x_train, y_train, cv=skf)\n",
        "    train_scores_strat = knn_2.fit(scalled_x_train, y_train).score(scalled_x_train, y_train)\n",
        "    mean_val_errors_strat.append(1 - np.mean(val_scores_strat))\n",
        "    mean_train_errors_strat.append(1 - train_scores_strat)\n"
      ],
      "metadata": {
        "id": "ye5CRjAjfIcn"
      },
      "execution_count": null,
      "outputs": []
    },
    {
      "cell_type": "code",
      "source": [
        "fig,ax = plt.subplots()\n",
        "ax.plot(k_values,mean_train_errors_std,label=\"Standard Train_Score\")\n",
        "ax.plot(k_values,mean_val_errors_std,label=\"Standard Val_Score\")\n",
        "ax.plot(k_values,mean_train_errors_strat,label=\"Standard Train_Score\")\n",
        "ax.plot(k_values,mean_val_errors_strat,label=\"Stratified Val_Score\")\n",
        "ax.legend()\n",
        "plt.show()"
      ],
      "metadata": {
        "colab": {
          "base_uri": "https://localhost:8080/",
          "height": 430
        },
        "id": "GqMO3JJBnaiz",
        "outputId": "127093b6-5fd1-40ef-9d70-afa2863327e4"
      },
      "execution_count": null,
      "outputs": [
        {
          "output_type": "display_data",
          "data": {
            "text/plain": [
              "<Figure size 640x480 with 1 Axes>"
            ],
            "image/png": "[encoded data removed]"
          },
          "metadata": {}
        }
      ]
    },
    {
      "cell_type": "code",
      "source": [
        "print(f\"Lowest Standrad Training mean Error is {np.min(mean_train_errors_std)} at  k =  {k_values[np.argmin(mean_train_errors_std)]}\")\n",
        "print(f\"Lowest Standrad Val mean Error is {np.min(mean_val_errors_std)}  at  k = {k_values[np.argmin(mean_val_errors_std)]}\")\n",
        "print(f\"Lowest Stratified Training mean Error is {np.min(mean_train_errors_strat)} at k = {k_values[np.argmin(mean_train_errors_strat)]}\")\n",
        "print(f\"Lowest Stratified Val mean Error is {np.min(mean_val_errors_strat)} at k = {k_values[np.argmin(mean_val_errors_strat)]}\")"
      ],
      "metadata": {
        "colab": {
          "base_uri": "https://localhost:8080/"
        },
        "id": "W7K5az-AreFj",
        "outputId": "56a7e6c0-31f6-4b59-c263-d8e0becb1bce"
      },
      "execution_count": null,
      "outputs": [
        {
          "output_type": "stream",
          "name": "stdout",
          "text": [
            "Lowest Standrad Training mean Error is 0.003597122302158251 at  k =  1\n",
            "Lowest Standrad Val mean Error is 0.6491151866151866  at  k = 10\n",
            "Lowest Stratified Training mean Error is 0.003597122302158251 at k = 1\n",
            "Lowest Stratified Val mean Error is 0.6402509652509653 at k = 10\n"
          ]
        }
      ]
    },
    {
      "cell_type": "markdown",
      "source": [
        "Overfiting at K =1 as Train error is low and val error is high."
      ],
      "metadata": {
        "id": "sphWxxmQsnD-"
      }
    },
    {
      "cell_type": "markdown",
      "source": [
        "As Stratified Val error is lowest at k = 10"
      ],
      "metadata": {
        "id": "sqiBYls4tHz3"
      }
    },
    {
      "cell_type": "code",
      "source": [
        "knn = KNeighborsClassifier(n_neighbors=10)\n",
        "knn.fit(scalled_x_train,y_train)"
      ],
      "metadata": {
        "colab": {
          "base_uri": "https://localhost:8080/",
          "height": 74
        },
        "id": "gkrLwhxqtF54",
        "outputId": "3bfe8a33-0b50-4f0f-c321-950f23873550"
      },
      "execution_count": null,
      "outputs": [
        {
          "output_type": "execute_result",
          "data": {
            "text/plain": [
              "KNeighborsClassifier(n_neighbors=10)"
            ],
            "text/html": [
              "<style>#sk-container-id-2 {color: black;background-color: white;}#sk-container-id-2 pre{padding: 0;}#sk-container-id-2 div.sk-toggleable {background-color: white;}#sk-container-id-2 label.sk-toggleable__label {cursor: pointer;display: block;width: 100%;margin-bottom: 0;padding: 0.3em;box-sizing: border-box;text-align: center;}#sk-container-id-2 label.sk-toggleable__label-arrow:before {content: \"▸\";float: left;margin-right: 0.25em;color: #696969;}#sk-container-id-2 label.sk-toggleable__label-arrow:hover:before {color: black;}#sk-container-id-2 div.sk-estimator:hover label.sk-toggleable__label-arrow:before {color: black;}#sk-container-id-2 div.sk-toggleable__content {max-height: 0;max-width: 0;overflow: hidden;text-align: left;background-color: #f0f8ff;}#sk-container-id-2 div.sk-toggleable__content pre {margin: 0.2em;color: black;border-radius: 0.25em;background-color: #f0f8ff;}#sk-container-id-2 input.sk-toggleable__control:checked~div.sk-toggleable__content {max-height: 200px;max-width: 100%;overflow: auto;}#sk-container-id-2 input.sk-toggleable__control:checked~label.sk-toggleable__label-arrow:before {content: \"▾\";}#sk-container-id-2 div.sk-estimator input.sk-toggleable__control:checked~label.sk-toggleable__label {background-color: #d4ebff;}#sk-container-id-2 div.sk-label input.sk-toggleable__control:checked~label.sk-toggleable__label {background-color: #d4ebff;}#sk-container-id-2 input.sk-hidden--visually {border: 0;clip: rect(1px 1px 1px 1px);clip: rect(1px, 1px, 1px, 1px);height: 1px;margin: -1px;overflow: hidden;padding: 0;position: absolute;width: 1px;}#sk-container-id-2 div.sk-estimator {font-family: monospace;background-color: #f0f8ff;border: 1px dotted black;border-radius: 0.25em;box-sizing: border-box;margin-bottom: 0.5em;}#sk-container-id-2 div.sk-estimator:hover {background-color: #d4ebff;}#sk-container-id-2 div.sk-parallel-item::after {content: \"\";width: 100%;border-bottom: 1px solid gray;flex-grow: 1;}#sk-container-id-2 div.sk-label:hover label.sk-toggleable__label {background-color: #d4ebff;}#sk-container-id-2 div.sk-serial::before {content: \"\";position: absolute;border-left: 1px solid gray;box-sizing: border-box;top: 0;bottom: 0;left: 50%;z-index: 0;}#sk-container-id-2 div.sk-serial {display: flex;flex-direction: column;align-items: center;background-color: white;padding-right: 0.2em;padding-left: 0.2em;position: relative;}#sk-container-id-2 div.sk-item {position: relative;z-index: 1;}#sk-container-id-2 div.sk-parallel {display: flex;align-items: stretch;justify-content: center;background-color: white;position: relative;}#sk-container-id-2 div.sk-item::before, #sk-container-id-2 div.sk-parallel-item::before {content: \"\";position: absolute;border-left: 1px solid gray;box-sizing: border-box;top: 0;bottom: 0;left: 50%;z-index: -1;}#sk-container-id-2 div.sk-parallel-item {display: flex;flex-direction: column;z-index: 1;position: relative;background-color: white;}#sk-container-id-2 div.sk-parallel-item:first-child::after {align-self: flex-end;width: 50%;}#sk-container-id-2 div.sk-parallel-item:last-child::after {align-self: flex-start;width: 50%;}#sk-container-id-2 div.sk-parallel-item:only-child::after {width: 0;}#sk-container-id-2 div.sk-dashed-wrapped {border: 1px dashed gray;margin: 0 0.4em 0.5em 0.4em;box-sizing: border-box;padding-bottom: 0.4em;background-color: white;}#sk-container-id-2 div.sk-label label {font-family: monospace;font-weight: bold;display: inline-block;line-height: 1.2em;}#sk-container-id-2 div.sk-label-container {text-align: center;}#sk-container-id-2 div.sk-container {/* jupyter's `normalize.less` sets `[hidden] { display: none; }` but bootstrap.min.css set `[hidden] { display: none !important; }` so we also need the `!important` here to be able to override the default hidden behavior on the sphinx rendered scikit-learn.org. See: https://github.com/scikit-learn/scikit-learn/issues/21755 */display: inline-block !important;position: relative;}#sk-container-id-2 div.sk-text-repr-fallback {display: none;}</style><div id=\"sk-container-id-2\" class=\"sk-top-container\"><div class=\"sk-text-repr-fallback\"><pre>KNeighborsClassifier(n_neighbors=10)</pre><b>In a Jupyter environment, please rerun this cell to show the HTML representation or trust the notebook. <br />On GitHub, the HTML representation is unable to render, please try loading this page with nbviewer.org.</b></div><div class=\"sk-container\" hidden><div class=\"sk-item\"><div class=\"sk-estimator sk-toggleable\"><input class=\"sk-toggleable__control sk-hidden--visually\" id=\"sk-estimator-id-2\" type=\"checkbox\" checked><label for=\"sk-estimator-id-2\" class=\"sk-toggleable__label sk-toggleable__label-arrow\">KNeighborsClassifier</label><div class=\"sk-toggleable__content\"><pre>KNeighborsClassifier(n_neighbors=10)</pre></div></div></div></div></div>"
            ]
          },
          "metadata": {},
          "execution_count": 38
        }
      ]
    },
    {
      "cell_type": "code",
      "source": [
        "error = 1- knn.score(scalled_x_test,y_test)"
      ],
      "metadata": {
        "id": "v2r6iqqRtv7V"
      },
      "execution_count": null,
      "outputs": []
    },
    {
      "cell_type": "code",
      "source": [
        "error"
      ],
      "metadata": {
        "colab": {
          "base_uri": "https://localhost:8080/"
        },
        "id": "rBPC7iLkuxTB",
        "outputId": "2d0870e1-4d89-4244-da5d-8fab85dae54d"
      },
      "execution_count": null,
      "outputs": [
        {
          "output_type": "execute_result",
          "data": {
            "text/plain": [
              "0.6857142857142857"
            ]
          },
          "metadata": {},
          "execution_count": 40
        }
      ]
    },
    {
      "cell_type": "markdown",
      "source": [
        "Test Score = 0.6857142857142857"
      ],
      "metadata": {
        "id": "9Iqx084nuCLK"
      }
    },
    {
      "cell_type": "markdown",
      "source": [
        "## 7"
      ],
      "metadata": {
        "id": "0pyqAnxX1pWa"
      }
    },
    {
      "cell_type": "code",
      "source": [
        "from sklearn.metrics import accuracy_score"
      ],
      "metadata": {
        "id": "hSfSatkD6_oF"
      },
      "execution_count": null,
      "outputs": []
    },
    {
      "cell_type": "code",
      "source": [
        "classifiers = [DecisionTreeClassifier(max_depth=10),MLPClassifier(hidden_layer_sizes = (10, 10, 10, )), AdaBoostClassifier()]\n",
        "classifier_names = ['Decision Tree', 'MLP','Ada Boost']"
      ],
      "metadata": {
        "id": "Dg__k3AGd9Ij"
      },
      "execution_count": null,
      "outputs": []
    },
    {
      "cell_type": "code",
      "source": [
        "val_accs = []\n",
        "skf = StratifiedKFold(n_splits=5, shuffle=True, random_state=42)\n",
        "for classifier in classifiers:\n",
        "  temp = []\n",
        "  for fold, (start_train_index, val_index) in enumerate(skf.split(scalled_x_train, y_train)):\n",
        "    X_start_train, X_val = scalled_x_train[start_train_index], scalled_x_train[val_index]\n",
        "    y_start_train, y_val = y_train[start_train_index], y_train[val_index]\n",
        "    classifier.fit(X_start_train, y_start_train)\n",
        "    y_pred = classifier.predict(X_val)\n",
        "    temp.append(accuracy_score(y_val,y_pred))\n",
        "  val_accs.append(np.mean(temp))\n"
      ],
      "metadata": {
        "id": "jcNyw75be_b0"
      },
      "execution_count": null,
      "outputs": []
    },
    {
      "cell_type": "code",
      "source": [
        "fig, axes = plt.subplots(1, 3, figsize=(20,4))\n",
        "ind = 0\n",
        "for name, classifier in zip(classifier_names,classifiers):\n",
        "  y_pred = classifier.predict(scalled_x_test)\n",
        "  cm = confusion_matrix(y_test, y_pred, labels=np.unique(y))\n",
        "\n",
        "  im = axes[ind].imshow(cm, interpolation='nearest', cmap=plt.cm.Blues)\n",
        "\n",
        "\n",
        "  axes[ind].set_xticks(np.arange(len(class_names)))\n",
        "  axes[ind].set_yticks(np.arange(len(class_names)))\n",
        "  axes[ind].set_xticklabels(class_names,rotation=45)\n",
        "  if ind==0:\n",
        "    axes[ind].set_yticklabels(class_names)\n",
        "  axes[ind].set_title(name)\n",
        "\n",
        "  for i in range(len(class_names)):\n",
        "      for j in range(len(class_names)):\n",
        "          axes[ind].text(j, i, str(cm[i, j]), ha='center', va='center', color='white' if cm[i, j] > cm.max() / 2 else 'black')\n",
        "  ind+=1\n",
        "\n",
        "cbar = fig.colorbar(im, ax=axes.ravel().tolist(), shrink=0.6)\n",
        "cbar.ax.set_ylabel('Number of samples')\n",
        "\n",
        "\n",
        "\n",
        "plt.show()\n"
      ],
      "metadata": {
        "colab": {
          "base_uri": "https://localhost:8080/",
          "height": 454
        },
        "id": "aOHBcBtwf-4b",
        "outputId": "c8789351-da1d-485d-e50d-904c86b7a14d"
      },
      "execution_count": null,
      "outputs": [
        {
          "output_type": "display_data",
          "data": {
            "text/plain": [
              "<Figure size 2000x400 with 4 Axes>"
            ],
            "image/png": "[encoded data removed]"
          },
          "metadata": {}
        }
      ]
    },
    {
      "cell_type": "markdown",
      "source": [
        "## 7 a"
      ],
      "metadata": {
        "id": "gjCgcXn7jMQl"
      }
    },
    {
      "cell_type": "markdown",
      "source": [
        "Ada boost is the the best bases on confusion matrix visualization as it has the best values diagnally"
      ],
      "metadata": {
        "id": "TM2xS-Nlin-D"
      }
    },
    {
      "cell_type": "markdown",
      "source": [
        "## 7 b"
      ],
      "metadata": {
        "id": "yCWe8UbHjPqx"
      }
    },
    {
      "cell_type": "code",
      "source": [
        "for clf_name, acc in zip(classifier_names,val_accs):\n",
        "  print(f\"{clf_name} Mean Val accuracy accross K folds {np.mean(acc)}\")"
      ],
      "metadata": {
        "colab": {
          "base_uri": "https://localhost:8080/"
        },
        "id": "hkhjgH87YjwB",
        "outputId": "bcd7b603-bde3-4c11-bafd-fa434479419a"
      },
      "execution_count": null,
      "outputs": [
        {
          "output_type": "stream",
          "name": "stdout",
          "text": [
            "Decision Tree Mean Val accuracy accross K folds 0.30572715572715575\n",
            "MLP Mean Val accuracy accross K folds 0.3399292149292149\n",
            "Ada Boost Mean Val accuracy accross K folds 0.3416666666666666\n"
          ]
        }
      ]
    },
    {
      "cell_type": "markdown",
      "source": [
        "Ada boost is the best based on val accuracies"
      ],
      "metadata": {
        "id": "Ov-4SLTKieXA"
      }
    },
    {
      "cell_type": "markdown",
      "source": [
        "## 7 c,d"
      ],
      "metadata": {
        "id": "L3gs7DumjS0T"
      }
    },
    {
      "cell_type": "code",
      "source": [
        "from sklearn.metrics import f1_score"
      ],
      "metadata": {
        "id": "USBlTpOo7qOt"
      },
      "execution_count": null,
      "outputs": []
    },
    {
      "cell_type": "code",
      "source": [
        "test_acc = []\n",
        "f_scores = []\n",
        "for clf_name, clf in zip(classifier_names,classifiers):\n",
        "  clf.fit(scalled_x_train,y_train)\n",
        "  y_pred = clf.predict(scalled_x_test)\n",
        "  test_acc.append(accuracy_score(y_test,y_pred))\n",
        "  f_scores.append(f1_score(y_test, y_pred, average='micro'))\n"
      ],
      "metadata": {
        "id": "k6fsQsf85COP"
      },
      "execution_count": null,
      "outputs": []
    },
    {
      "cell_type": "code",
      "source": [
        "for clf_name, acc, f1 in zip(classifier_names,test_acc,f_scores):\n",
        "  print(f\"{clf_name} has Test accuracy  {acc} and F1 score {f1}\")\n"
      ],
      "metadata": {
        "colab": {
          "base_uri": "https://localhost:8080/"
        },
        "id": "uxjaRGCb74OU",
        "outputId": "70c2bc72-b86f-4708-c59c-0c827a5abb78"
      },
      "execution_count": null,
      "outputs": [
        {
          "output_type": "stream",
          "name": "stdout",
          "text": [
            "Decision Tree has Test accuracy  0.29285714285714287 and F1 score 0.29285714285714287\n",
            "MLP has Test accuracy  0.2857142857142857 and F1 score 0.2857142857142857\n",
            "Ada Boost has Test accuracy  0.32142857142857145 and F1 score 0.32142857142857145\n"
          ]
        }
      ]
    },
    {
      "cell_type": "markdown",
      "source": [
        "Ada boost is best in both Test accuracy and F1 score"
      ],
      "metadata": {
        "id": "P2JVoBz482gf"
      }
    },
    {
      "cell_type": "code",
      "source": [],
      "metadata": {
        "id": "RwwNubGkrJfj"
      },
      "execution_count": null,
      "outputs": []
    }
  ]
}