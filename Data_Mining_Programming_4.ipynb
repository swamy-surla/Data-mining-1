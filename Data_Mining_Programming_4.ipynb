{
  "nbformat": 4,
  "nbformat_minor": 0,
  "metadata": {
    "colab": {
      "provenance": [],
      "include_colab_link": true
    },
    "kernelspec": {
      "name": "python3",
      "display_name": "Python 3"
    },
    "language_info": {
      "name": "python"
    }
  },
  "cells": [
    {
      "cell_type": "markdown",
      "metadata": {
        "id": "view-in-github",
        "colab_type": "text"
      },
      "source": [
        "<a href=\"https://colab.research.google.com/github/swamy-surla/Data-mining-1/blob/main/Data_Mining_Programming_4.ipynb\" target=\"_parent\"><img src=\"https://colab.research.google.com/assets/colab-badge.svg\" alt=\"Open In Colab\"/></a>"
      ]
    },
    {
      "cell_type": "code",
      "source": [
        "import pandas as pd\n",
        "import cv2\n",
        "import os\n",
        "import numpy as np\n",
        "import warnings\n",
        "from skimage.color import rgb2gray\n",
        "from skimage import io, exposure, filters\n",
        "from sklearn.preprocessing import StandardScaler\n",
        "from sklearn.decomposition import PCA\n",
        "from sklearn.cluster import KMeans, SpectralClustering, BisectingKMeans\n",
        "from sklearn.cluster import DBSCAN, AgglomerativeClustering\n",
        "from sklearn.metrics import fowlkes_mallows_score, silhouette_score"
      ],
      "metadata": {
        "id": "tse0NZAzSxSU"
      },
      "execution_count": 2,
      "outputs": []
    },
    {
      "cell_type": "code",
      "source": [
        "warnings.filterwarnings('ignore')"
      ],
      "metadata": {
        "id": "f1wH-n7fS8kv"
      },
      "execution_count": 3,
      "outputs": []
    },
    {
      "cell_type": "markdown",
      "source": [
        "# q(1)"
      ],
      "metadata": {
        "id": "DlA23OyAx29S"
      }
    },
    {
      "cell_type": "code",
      "source": [
        "def compute_gradient_angle(dx, dy):\n",
        "    \"\"\"Calculate the angles between horizontal and vertical operators.\"\"\"\n",
        "    return np.mod(np.arctan2(dy, dx), np.pi)"
      ],
      "metadata": {
        "id": "l9XESO6GS-BL"
      },
      "execution_count": 4,
      "outputs": []
    },
    {
      "cell_type": "code",
      "source": [
        "data_path = \"/content/drive/MyDrive/data_mining/Processed_images\"\n",
        "\n",
        "labels_list = ['Dandie_Dinmont', 'Otterhound', 'Tibetan_terrier', 'French_bulldog']"
      ],
      "metadata": {
        "id": "m-oSjxXDS_se"
      },
      "execution_count": 5,
      "outputs": []
    },
    {
      "cell_type": "code",
      "source": [
        "dataframe = pd.DataFrame(columns = list(range(0,36))+['class'])\n",
        "folders_list = os.listdir(data_path)\n",
        "for folder in folders_list:\n",
        "  class_path = os.path.join(data_path, folder)\n",
        "  for i, label in enumerate(labels_list):\n",
        "    if label.lower() == folder.split(\"-\")[-1].lower():\n",
        "      class_num = i\n",
        "  for filename in os.listdir(class_path):\n",
        "    img = io.imread(os.path.join(class_path,filename))\n",
        "    gray_image = rgb2gray(img)\n",
        "    angle_sobel = compute_gradient_angle(filters.sobel_h(gray_image),\n",
        "                    filters.sobel_v(gray_image))\n",
        "    hist,bins = exposure.histogram(angle_sobel,nbins=36)\n",
        "    dataframe.loc[len(dataframe)] = list(hist)+[class_num]"
      ],
      "metadata": {
        "id": "pJ1Y76RuTBic"
      },
      "execution_count": 6,
      "outputs": []
    },
    {
      "cell_type": "code",
      "source": [
        "scaler = StandardScaler()\n",
        "scaler.fit(dataframe[dataframe.columns[:-1]])\n",
        "\n",
        "data = dataframe[dataframe.columns[:-1]]\n",
        "\n",
        "original_classes = np.array(dataframe[dataframe.columns[-1]])\n",
        "\n",
        "scaled_data = scaler.transform(data)"
      ],
      "metadata": {
        "id": "CgBkKMeATDW9"
      },
      "execution_count": 7,
      "outputs": []
    },
    {
      "cell_type": "markdown",
      "source": [
        "# q (2)"
      ],
      "metadata": {
        "id": "UQ_530Gnx61c"
      }
    },
    {
      "cell_type": "code",
      "source": [
        "pca = PCA(n_components=2)\n",
        "transformed_data = pca.fit_transform(scaled_data)"
      ],
      "metadata": {
        "id": "pGc1fKi6TFba"
      },
      "execution_count": 8,
      "outputs": []
    },
    {
      "cell_type": "markdown",
      "source": [
        "# q (3)"
      ],
      "metadata": {
        "id": "qkEPqR-7x-DJ"
      }
    },
    {
      "cell_type": "code",
      "source": [
        "# K-means clustering with init='random'\n",
        "kmeans_random = KMeans(n_clusters=4, init='random', random_state=42)\n",
        "kmeans_random.fit(transformed_data)\n",
        "kmeans_random_labels = kmeans_random.labels_\n",
        "\n",
        "# K-means clustering with init='k-means++'\n",
        "kmeans_kmeans_pp = KMeans(n_clusters=4, init='k-means++', random_state=42)\n",
        "kmeans_kmeans_pp.fit(transformed_data)\n",
        "kmeans_kmeans_pp_labels = kmeans_kmeans_pp.labels_\n",
        "\n",
        "# Bisecting K-means clustering with init='random'\n",
        "bisecting_kmeans_random = BisectingKMeans(n_clusters=4, init='random', random_state=42)\n",
        "bisecting_kmeans_random.fit(transformed_data)\n",
        "bisecting_kmeans_random_labels = bisecting_kmeans_random.labels_\n",
        "\n",
        "# Spectral clustering with default parameters\n",
        "spectral_clustering = SpectralClustering(n_clusters=4, random_state=42)\n",
        "spectral_clustering.fit(transformed_data)\n",
        "spectral_clustering_labels = spectral_clustering.labels_\n",
        "\n",
        "# DBSCAN\n",
        "dbscan = DBSCAN(eps=0.5, min_samples=2)\n",
        "dbscan.fit(data)\n",
        "dbscan_labels = dbscan.labels_\n",
        "\n",
        "# Agglomerative clustering with different linkage methods\n",
        "agglomerative_single = AgglomerativeClustering(n_clusters=4, linkage='single')\n",
        "agglomerative_single.fit(data)\n",
        "agglomerative_single_labels = agglomerative_single.labels_\n",
        "\n",
        "agglomerative_complete = AgglomerativeClustering(n_clusters=4, linkage='complete')\n",
        "agglomerative_complete.fit(data)\n",
        "agglomerative_complete_labels = agglomerative_complete.labels_\n",
        "\n",
        "agglomerative_average = AgglomerativeClustering(n_clusters=4, linkage='average')\n",
        "agglomerative_average.fit(data)\n",
        "agglomerative_average_labels = agglomerative_average.labels_\n",
        "\n",
        "agglomerative_ward = AgglomerativeClustering(n_clusters=4, linkage='ward')\n",
        "agglomerative_ward.fit(data)\n",
        "agglomerative_ward_labels = agglomerative_ward.labels_"
      ],
      "metadata": {
        "id": "OUYps9cuTJdb"
      },
      "execution_count": 9,
      "outputs": []
    },
    {
      "cell_type": "markdown",
      "source": [
        "# q (4)"
      ],
      "metadata": {
        "id": "WvX_C343yAyT"
      }
    },
    {
      "cell_type": "code",
      "execution_count": 11,
      "metadata": {
        "id": "BHx6k0DwSp3o"
      },
      "outputs": [],
      "source": [
        "# Calculate Fowlkes-Mallows index\n",
        "fowlkes_mallows_scores = {\n",
        "    'K-means (Random)': fowlkes_mallows_score(original_classes, kmeans_random_labels),\n",
        "    'K-means (k-means++)': fowlkes_mallows_score(original_classes, kmeans_kmeans_pp_labels),\n",
        "    'Bisecting K-means': fowlkes_mallows_score(original_classes, bisecting_kmeans_random_labels),\n",
        "    'Spectral Clustering': fowlkes_mallows_score(original_classes, spectral_clustering_labels),\n",
        "    'DBSCAN': fowlkes_mallows_score(original_classes, dbscan_labels),\n",
        "    'Agglomerative (Single link)': fowlkes_mallows_score(original_classes, agglomerative_single_labels),\n",
        "    'Agglomerative (Complete link)': fowlkes_mallows_score(original_classes, agglomerative_complete_labels),\n",
        "    'Agglomerative (Group Average)': fowlkes_mallows_score(original_classes, agglomerative_average_labels),\n",
        "    'Agglomerative (Ward)': fowlkes_mallows_score(original_classes, agglomerative_ward_labels)\n",
        "}\n"
      ]
    },
    {
      "cell_type": "code",
      "source": [
        "# Calculate Silhouette Coefficient\n",
        "silhouette_scores = {\n",
        "    'K-means (Random)': silhouette_score(transformed_data, kmeans_random_labels),\n",
        "    'K-means (k-means++)': silhouette_score(transformed_data, kmeans_kmeans_pp_labels),\n",
        "    'Bisecting K-means': silhouette_score(transformed_data, bisecting_kmeans_random_labels),\n",
        "    'Spectral Clustering': silhouette_score(transformed_data, spectral_clustering_labels),\n",
        "    'DBSCAN': silhouette_score(transformed_data, dbscan_labels),\n",
        "    'Agglomerative (Single link)': silhouette_score(transformed_data, agglomerative_single_labels),\n",
        "    'Agglomerative (Complete link)': silhouette_score(transformed_data, agglomerative_complete_labels),\n",
        "    'Agglomerative (Group Average)': silhouette_score(transformed_data, agglomerative_average_labels),\n",
        "    'Agglomerative (Ward)': silhouette_score(transformed_data, agglomerative_ward_labels)\n",
        "}\n"
      ],
      "metadata": {
        "id": "JwupsRrjxpvQ"
      },
      "execution_count": 12,
      "outputs": []
    },
    {
      "cell_type": "code",
      "source": [
        "# Rank methods based on Fowlkes-Mallows index\n",
        "ranked_methods_fm = sorted(fowlkes_mallows_scores.items(), key=lambda x: x[1], reverse=True)\n",
        "print(\"Ranking based on Fowlkes-Mallows index:\")\n",
        "for method, score in ranked_methods_fm:\n",
        "    print(f\"{method}: {score}\")\n",
        "\n"
      ],
      "metadata": {
        "colab": {
          "base_uri": "https://localhost:8080/"
        },
        "id": "BoAM5yw6xwYk",
        "outputId": "fad0dedc-c8f4-4f1f-a99f-50ac96c42c85"
      },
      "execution_count": 13,
      "outputs": [
        {
          "output_type": "stream",
          "name": "stdout",
          "text": [
            "Ranking based on Fowlkes-Mallows index:\n",
            "DBSCAN: 0.4998403538257103\n",
            "Agglomerative (Single link): 0.4987513310029087\n",
            "Agglomerative (Complete link): 0.35669420807427843\n",
            "Agglomerative (Group Average): 0.35669420807427843\n",
            "Agglomerative (Ward): 0.3563513141283777\n",
            "Bisecting K-means: 0.30555307205695637\n",
            "Spectral Clustering: 0.28944658714078164\n",
            "K-means (Random): 0.27729414209440567\n",
            "K-means (k-means++): 0.27729414209440567\n"
          ]
        }
      ]
    },
    {
      "cell_type": "code",
      "source": [
        "# Rank methods based on Silhouette Coefficient\n",
        "ranked_methods_silhouette = sorted(silhouette_scores.items(), key=lambda x: x[1], reverse=True)\n",
        "print(\"\\nRanking based on Silhouette Coefficient:\")\n",
        "for method, score in ranked_methods_silhouette:\n",
        "    print(f\"{method}: {score}\")"
      ],
      "metadata": {
        "colab": {
          "base_uri": "https://localhost:8080/"
        },
        "id": "p1F7cm9Hxyex",
        "outputId": "e8f3959e-728e-4c9c-e300-7eaf25b3c18c"
      },
      "execution_count": 14,
      "outputs": [
        {
          "output_type": "stream",
          "name": "stdout",
          "text": [
            "\n",
            "Ranking based on Silhouette Coefficient:\n",
            "DBSCAN: 0.48279570686308526\n",
            "K-means (Random): 0.457896412238061\n",
            "K-means (k-means++): 0.457896412238061\n",
            "Spectral Clustering: 0.4528878629166303\n",
            "Bisecting K-means: 0.4023991803706941\n",
            "Agglomerative (Complete link): 0.37323039512380946\n",
            "Agglomerative (Group Average): 0.37323039512380946\n",
            "Agglomerative (Ward): 0.3433855878055791\n",
            "Agglomerative (Single link): -0.1587832586140878\n"
          ]
        }
      ]
    },
    {
      "cell_type": "code",
      "source": [],
      "metadata": {
        "id": "Ylzdjk5Kxzmt"
      },
      "execution_count": null,
      "outputs": []
    }
  ]
}